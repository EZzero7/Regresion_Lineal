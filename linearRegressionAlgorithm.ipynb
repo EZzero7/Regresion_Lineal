{
  "nbformat": 4,
  "nbformat_minor": 0,
  "metadata": {
    "colab": {
      "name": "linearRegressionAlgorithm.ipynb",
      "provenance": [],
      "authorship_tag": "ABX9TyPHucXjPvcwPd9V0BiPLrs4",
      "include_colab_link": true
    },
    "kernelspec": {
      "name": "python3",
      "display_name": "Python 3"
    },
    "language_info": {
      "name": "python"
    }
  },
  "cells": [
    {
      "cell_type": "markdown",
      "metadata": {
        "id": "view-in-github",
        "colab_type": "text"
      },
      "source": [
        "<a href=\"https://colab.research.google.com/github/EZzero7/Regresion_Lineal/blob/main/linearRegressionAlgorithm.ipynb\" target=\"_parent\"><img src=\"https://colab.research.google.com/assets/colab-badge.svg\" alt=\"Open In Colab\"/></a>"
      ]
    },
    {
      "cell_type": "code",
      "metadata": {
        "id": "ZXV-LI3H0z2W"
      },
      "source": [
        "import numpy as np\n",
        "import matplotlib.pyplot as plt\n"
      ],
      "execution_count": 16,
      "outputs": []
    },
    {
      "cell_type": "code",
      "metadata": {
        "id": "9y31iQxs1O2N"
      },
      "source": [
        "def estimate_b0_b1(x,y):\n",
        "    n = np.size(x)\n",
        "\n",
        "    m_x, m_y = np.mean(x), np.mean(y)\n",
        "\n",
        "    sumatoria_xy = np.sum((x-m_x)*(y-m_y))\n",
        "    sumatoria_xx = np.sum(x*(x-m_x))\n",
        "\n",
        "    b_1 = sumatoria_xy / sumatoria_xx\n",
        "    b_0 = m_y - b_1*m_x\n",
        "\n",
        "    return (b_0, b_1)"
      ],
      "execution_count": 2,
      "outputs": []
    },
    {
      "cell_type": "code",
      "metadata": {
        "id": "3JVlcPgo2St3"
      },
      "source": [
        "def plot_regression(x, y, b):\n",
        "    plt.scatter(x, y, color = \"b\", marker = \"o\", s=30)\n",
        "\n",
        "    y_pred =b[0] + b[1]*x\n",
        "    plt.plot(x,y_pred, color = \"y\")\n",
        "\n",
        "    plt.xlabel('x-Independiente')\n",
        "    plt.ylabel('y-dependiente')\n",
        "\n",
        "    plt.show()"
      ],
      "execution_count": 12,
      "outputs": []
    },
    {
      "cell_type": "code",
      "metadata": {
        "id": "yx4DVbqi7tzN"
      },
      "source": [
        "def main():\n",
        "    x = np.array([1,2,3,4,5])\n",
        "    y = np.array([2,3,5,6,5])\n",
        "\n",
        "    b = estimate_b0_b1(x, y)\n",
        "    print(\"Los valores b0 = {}, b1 ={}\".format(b[0],b[1]))\n",
        "\n",
        "    plot_regression(x, y, b)"
      ],
      "execution_count": 13,
      "outputs": []
    },
    {
      "cell_type": "code",
      "metadata": {
        "colab": {
          "base_uri": "https://localhost:8080/",
          "height": 296
        },
        "id": "5Pnhwxaz9vj9",
        "outputId": "498ecdcb-3d38-45c7-c3f6-1d1e478f59d2"
      },
      "source": [
        "main()"
      ],
      "execution_count": 15,
      "outputs": [
        {
          "output_type": "stream",
          "name": "stdout",
          "text": [
            "Los valores b0 = 1.5, b1 =0.9\n"
          ]
        },
        {
          "output_type": "display_data",
          "data": {
            "image/png": "[encoded data removed]",
            "text/plain": [
              "<Figure size 432x288 with 1 Axes>"
            ]
          },
          "metadata": {
            "needs_background": "light"
          }
        }
      ]
    }
  ]
}